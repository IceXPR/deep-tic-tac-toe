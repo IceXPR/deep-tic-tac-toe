{
  "nbformat": 4,
  "nbformat_minor": 0,
  "metadata": {
    "colab": {
      "name": "deep learning tic-tac-toe model training.ipynb",
      "provenance": [],
      "collapsed_sections": [],
      "toc_visible": true,
      "authorship_tag": "ABX9TyMrH5ogjBnU2NV+Kku7Ak6o",
      "include_colab_link": true
    },
    "kernelspec": {
      "name": "python3",
      "display_name": "Python 3"
    },
    "accelerator": "GPU"
  },
  "cells": [
    {
      "cell_type": "markdown",
      "metadata": {
        "id": "view-in-github",
        "colab_type": "text"
      },
      "source": [
        "<a href=\"https://colab.research.google.com/github/ZackAkil/deep-tic-tac-toe/blob/master/deep_learning_tic_tac_toe_model_training.ipynb\" target=\"_parent\"><img src=\"https://colab.research.google.com/assets/colab-badge.svg\" alt=\"Open In Colab\"/></a>"
      ]
    },
    {
      "cell_type": "code",
      "metadata": {
        "id": "nKBz663XdQhj",
        "colab_type": "code",
        "colab": {}
      },
      "source": [
        "import numpy as np\n",
        "import matplotlib.pyplot as plt\n"
      ],
      "execution_count": 0,
      "outputs": []
    },
    {
      "cell_type": "code",
      "metadata": {
        "id": "kU3ye6JadXQU",
        "colab_type": "code",
        "cellView": "both",
        "colab": {}
      },
      "source": [
        "#@title\n",
        "class XandOs():\n",
        "  def __init__(self, log = False):\n",
        "    self.state = np.zeros([3,3], dtype=np.int16)\n",
        "    self.end = False\n",
        "    self.history = []\n",
        "    self.log = log\n",
        "\n",
        "  def make_move(self, pos, player=1):\n",
        "  \n",
        "    if self.state.flatten()[pos]:\n",
        "       # invalid move\n",
        "       if self.log:\n",
        "        print('player {0} INVALID move {1}'.format(player, pos))\n",
        "       return False\n",
        "    else:\n",
        "      # make move\n",
        "      if self.log:\n",
        "        print('player {0} making move {1}'.format(player, pos))\n",
        "      grid = self.state.flatten()\n",
        "      grid[pos] = player\n",
        "      self.state = np.reshape(grid, [3,3])\n",
        "      return True\n",
        "\n",
        "  def check_win(self, player=1):\n",
        "    bool_grid = self.state == player\n",
        "    return win(bool_grid)\n",
        "\n",
        "\n",
        "  def step(self, action):\n",
        "\n",
        "    self.history.append([self.state, action])\n",
        "    reward = 0\n",
        "    pos = action\n",
        "    valid_move = self.make_move(pos, player=1)\n",
        "\n",
        "    if not valid_move:\n",
        "      reward = -2\n",
        "      self.end = True\n",
        "\n",
        "    elif self.check_win(player=1):\n",
        "      if self.log:\n",
        "        print('player 1 win')\n",
        "      reward = 1\n",
        "      self.end = True\n",
        "\n",
        "    elif self.game_full():\n",
        "      if self.log:\n",
        "        print('player 1 ended game')\n",
        "      self.end = True\n",
        "      reward = 0.5\n",
        "\n",
        "    if self.end:  \n",
        "      return reward, self.state, self.end\n",
        "\n",
        "    # player 2 move\n",
        "    player_2_move = self.rand_agent_move(player=2)\n",
        "    valid_move = self.make_move(player_2_move, player=2)\n",
        "\n",
        "    if not valid_move:\n",
        "      reward = 1\n",
        "      self.end = True\n",
        "\n",
        "    elif self.check_win(player=2):\n",
        "      if self.log:\n",
        "        print('player 2 win')\n",
        "      reward = -1\n",
        "      self.end = True\n",
        "\n",
        "    elif self.game_full():\n",
        "      if self.log:\n",
        "        print('player 2 ended game')\n",
        "      self.end = True\n",
        "      reward = 0.5\n",
        "\n",
        "    if self.end:  \n",
        "      return reward, self.state, self.end\n",
        "\n",
        "    return reward, self.state, self.end\n",
        "\n",
        "\n",
        "\n",
        "  def render(self):\n",
        "    render_game(self.state)\n",
        "\n",
        "  def game_full(self):\n",
        "    return (self.state==0).sum() == 0\n",
        "\n",
        "\n",
        "  def rand_agent_move(self, player = 2):\n",
        "\n",
        "    flat_state = self.state.flatten() == 0\n",
        "    empty_indexs, = np.where(flat_state)\n",
        "\n",
        "    for indx in empty_indexs:\n",
        "      grid = self.state.flatten() == player\n",
        "      grid[indx] = True\n",
        "      if win(np.reshape(grid,[3,3])):\n",
        "        if self.log:\n",
        "          print('found winning move ')\n",
        "        return indx\n",
        "    if len(empty_indexs):\n",
        "      return np.random.choice(empty_indexs)\n",
        "    else:\n",
        "      return 0\n",
        "\n",
        "def win(bool_grid):\n",
        "  # horizontal\n",
        "  for row in bool_grid:\n",
        "    if row.sum() == 3:\n",
        "      return True\n",
        "\n",
        "  # vertical\n",
        "  for row in bool_grid.T:\n",
        "    if row.sum() == 3:\n",
        "      return True\n",
        "\n",
        "  # diangonal 1\n",
        "  if np.reshape(bool_grid,[-1])[::4].sum() == 3:\n",
        "    return True\n",
        "\n",
        "  # diangonal 2\n",
        "  if np.reshape(bool_grid,[-1])[2:7:2].sum() == 3:\n",
        "    return True\n",
        "\n",
        "  return False\n",
        "\n",
        "def render_game(state):\n",
        "\n",
        "    # data = np.reshape(pred, [3,3])\n",
        "    fig, ax = plt.subplots()\n",
        "    im = ax.imshow(state/2, cmap=plt.get_cmap('cool'), interpolation='nearest',\n",
        "              vmin=0, vmax=1)\n",
        "    text_num = 0\n",
        "    for i in range(3):\n",
        "      for j in range(3):\n",
        "        ax.text(j, i, str(text_num))\n",
        "        text_num += 1\n",
        "\n",
        "      # Minor ticks\n",
        "    fig.colorbar(im)\n",
        "    plt.show()"
      ],
      "execution_count": 0,
      "outputs": []
    },
    {
      "cell_type": "code",
      "metadata": {
        "id": "P1KUiRucnHqD",
        "colab_type": "code",
        "colab": {}
      },
      "source": [
        "game = XandOs()"
      ],
      "execution_count": 0,
      "outputs": []
    },
    {
      "cell_type": "code",
      "metadata": {
        "id": "H9CbboUHnAz4",
        "colab_type": "code",
        "outputId": "5546959f-7558-4107-ec1c-f7d4d352ddd3",
        "colab": {
          "base_uri": "https://localhost:8080/",
          "height": 320
        }
      },
      "source": [
        "print(game.step(1))\n",
        "game.render()"
      ],
      "execution_count": 5,
      "outputs": [
        {
          "output_type": "stream",
          "text": [
            "(0, array([[0, 1, 0],\n",
            "       [0, 0, 2],\n",
            "       [0, 0, 0]], dtype=int16), False)\n"
          ],
          "name": "stdout"
        },
        {
          "output_type": "display_data",
          "data": {
            "image/png": "[encoded data removed]",
            "text/plain": [
              "<Figure size 432x288 with 2 Axes>"
            ]
          },
          "metadata": {
            "tags": []
          }
        }
      ]
    },
    {
      "cell_type": "code",
      "metadata": {
        "id": "XcfHE9Ekj8i0",
        "colab_type": "code",
        "outputId": "a19c5cc7-f8f8-4ccb-cd96-2aac17b27338",
        "colab": {
          "base_uri": "https://localhost:8080/",
          "height": 926
        }
      },
      "source": [
        "game = XandOs()\n",
        "\n",
        "while(not game.end):\n",
        "  move = np.random.choice(range(9))\n",
        "  print(game.step(move))\n",
        "  game.render()\n",
        "\n"
      ],
      "execution_count": 6,
      "outputs": [
        {
          "output_type": "stream",
          "text": [
            "(0, array([[1, 2, 0],\n",
            "       [0, 0, 0],\n",
            "       [0, 0, 0]], dtype=int16), False)\n"
          ],
          "name": "stdout"
        },
        {
          "output_type": "display_data",
          "data": {
            "image/png": "[encoded data removed]",
            "text/plain": [
              "<Figure size 432x288 with 2 Axes>"
            ]
          },
          "metadata": {
            "tags": []
          }
        },
        {
          "output_type": "stream",
          "text": [
            "(0, array([[1, 2, 2],\n",
            "       [0, 0, 1],\n",
            "       [0, 0, 0]], dtype=int16), False)\n"
          ],
          "name": "stdout"
        },
        {
          "output_type": "display_data",
          "data": {
            "image/png": "[encoded data removed]",
            "text/plain": [
              "<Figure size 432x288 with 2 Axes>"
            ]
          },
          "metadata": {
            "tags": []
          }
        },
        {
          "output_type": "stream",
          "text": [
            "(-2, array([[1, 2, 2],\n",
            "       [0, 0, 1],\n",
            "       [0, 0, 0]], dtype=int16), True)\n"
          ],
          "name": "stdout"
        },
        {
          "output_type": "display_data",
          "data": {
            "image/png": "[encoded data removed]",
            "text/plain": [
              "<Figure size 432x288 with 2 Axes>"
            ]
          },
          "metadata": {
            "tags": []
          }
        }
      ]
    },
    {
      "cell_type": "code",
      "metadata": {
        "id": "ZItV8JI04SqL",
        "colab_type": "code",
        "colab": {
          "base_uri": "https://localhost:8080/",
          "height": 34
        },
        "outputId": "11a0e07b-e10c-4df7-e293-79c0a289970f"
      },
      "source": [
        "len(game.history)"
      ],
      "execution_count": 7,
      "outputs": [
        {
          "output_type": "execute_result",
          "data": {
            "text/plain": [
              "3"
            ]
          },
          "metadata": {
            "tags": []
          },
          "execution_count": 7
        }
      ]
    },
    {
      "cell_type": "code",
      "metadata": {
        "id": "Ry3PE3K3o2iY",
        "colab_type": "code",
        "outputId": "dd56e7aa-ed4c-4bf2-e44b-6d440a072786",
        "colab": {
          "base_uri": "https://localhost:8080/",
          "height": 80
        }
      },
      "source": [
        "import keras\n",
        "from keras.datasets import mnist\n",
        "from keras.models import Sequential\n",
        "from keras.layers import Dense, Dropout, Flatten\n",
        "from keras.layers import Conv2D, MaxPooling2D, Conv2DTranspose\n",
        "from keras import backend as K"
      ],
      "execution_count": 8,
      "outputs": [
        {
          "output_type": "stream",
          "text": [
            "Using TensorFlow backend.\n"
          ],
          "name": "stderr"
        },
        {
          "output_type": "display_data",
          "data": {
            "text/html": [
              "<p style=\"color: red;\">\n",
              "The default version of TensorFlow in Colab will soon switch to TensorFlow 2.x.<br>\n",
              "We recommend you <a href=\"https://www.tensorflow.org/guide/migrate\" target=\"_blank\">upgrade</a> now \n",
              "or ensure your notebook will continue to use TensorFlow 1.x via the <code>%tensorflow_version 1.x</code> magic:\n",
              "<a href=\"https://colab.research.google.com/notebooks/tensorflow_version.ipynb\" target=\"_blank\">more info</a>.</p>\n"
            ],
            "text/plain": [
              "<IPython.core.display.HTML object>"
            ]
          },
          "metadata": {
            "tags": []
          }
        }
      ]
    },
    {
      "cell_type": "code",
      "metadata": {
        "id": "oB9NMGULt20B",
        "colab_type": "code",
        "colab": {}
      },
      "source": [
        "from collections import deque"
      ],
      "execution_count": 0,
      "outputs": []
    },
    {
      "cell_type": "code",
      "metadata": {
        "id": "hOF8pY1VcDw0",
        "colab_type": "code",
        "colab": {}
      },
      "source": [
        "class Agent():\n",
        "\n",
        "  def __init__(self):\n",
        "    self.model = self.create_model()\n",
        "    self.memory = []\n",
        "    self.augmented_memory = deque([], 1000)\n",
        "\n",
        "  def relive_memory(self, memory):\n",
        "    for mem in memory:\n",
        "      print('game state:')\n",
        "      render_game(mem[0])\n",
        "      print('model thoughts: ', mem[1])\n",
        "      self.show_heat_map(mem[2])\n",
        "      next_state = np.reshape(mem[0].copy(),[-1])\n",
        "      next_state[mem[1]] = 1 \n",
        "      next_state = np.reshape(next_state,[3,3])\n",
        "      print('new game state: reward ', mem[3])\n",
        "      render_game(next_state)\n",
        "\n",
        "  def create_model(self):\n",
        "    model = Sequential()\n",
        "    # model.add(Flatten(input_shape=[3,3,2]))\n",
        "    model.add(Conv2D(8, kernel_size=(1, 1),\n",
        "                 activation='relu',\n",
        "                 input_shape=[3,3,2],\n",
        "                 strides=(1,1), padding='same'))\n",
        "    model.add(Conv2D(8, (3, 3), activation='relu',padding='same'))\n",
        "    model.add(Flatten())\n",
        "    model.add(Dense(50, activation='relu'))\n",
        "    model.add(Dropout(0.1))\n",
        "    model.add(Dense(9, activation='sigmoid'))\n",
        "    model.compile(loss='binary_crossentropy', optimizer='adam')\n",
        "    return model\n",
        "\n",
        "  def show_heat_map(self, pred):\n",
        "    data = np.reshape(pred, [3,3])\n",
        "    fig, ax = plt.subplots()\n",
        "    im = ax.imshow(data, cmap=plt.get_cmap('hot'), interpolation='nearest',\n",
        "              vmin=0, vmax=1)\n",
        "    fig.colorbar(im)\n",
        "    plt.show()\n",
        "\n",
        "  def decide_move(self, env, show=True):\n",
        "    model_input = np.zeros([1,3,3,2])\n",
        "    model_input[0,:,:,0] = env==1\n",
        "    model_input[0,:,:,1] = env==2\n",
        "\n",
        "    pred = self.model.predict(model_input)\n",
        "    \n",
        "    if show:\n",
        "      self.show_heat_map(pred)\n",
        "    return pred.argmax(), pred\n",
        "\n",
        "  def alter_move_pred(self, pred, move, amount, show=True):\n",
        "    if show:\n",
        "      print('before')\n",
        "      self.show_heat_map(pred)\n",
        "    output = pred.copy()\n",
        "    output[0, move] += amount\n",
        "    output = np.clip(output,0,1)\n",
        "    if show:\n",
        "      print('after')\n",
        "      self.show_heat_map(output)\n",
        "    return output\n"
      ],
      "execution_count": 0,
      "outputs": []
    },
    {
      "cell_type": "markdown",
      "metadata": {
        "id": "m97oo1yaq8Fc",
        "colab_type": "text"
      },
      "source": [
        "# The game"
      ]
    },
    {
      "cell_type": "code",
      "metadata": {
        "id": "s8QvSz-4i0OZ",
        "colab_type": "code",
        "colab": {}
      },
      "source": [
        "from sklearn.preprocessing import normalize"
      ],
      "execution_count": 0,
      "outputs": []
    },
    {
      "cell_type": "code",
      "metadata": {
        "id": "zRoDqfUBjet5",
        "colab_type": "code",
        "colab": {}
      },
      "source": [
        "def render_all(things,vmin=0, vmax=2, cmap='cool', show_max=True):\n",
        "  display_all = np.zeros([3,3*(len(things))])\n",
        "  for i, thing in enumerate(things):\n",
        "    if show_max:\n",
        "      print('make move: ', thing.argmax())\n",
        "    step = 3*i\n",
        "    display_all[:,step:step+3] = np.reshape(thing, [3,3])\n",
        "  plt.imshow(display_all, vmin=vmin, vmax=vmax, cmap=cmap)\n",
        "  plt.show()\n"
      ],
      "execution_count": 0,
      "outputs": []
    },
    {
      "cell_type": "code",
      "metadata": {
        "id": "nfKcoz4Hn2Xx",
        "colab_type": "code",
        "outputId": "5002aef5-8b4b-4c32-b1fa-f6a2580dbd0d",
        "colab": {
          "base_uri": "https://localhost:8080/",
          "height": 595
        }
      },
      "source": [
        "game = XandOs()\n",
        "agent = Agent()\n",
        "game.render()"
      ],
      "execution_count": 13,
      "outputs": [
        {
          "output_type": "stream",
          "text": [
            "WARNING:tensorflow:From /usr/local/lib/python3.6/dist-packages/keras/backend/tensorflow_backend.py:66: The name tf.get_default_graph is deprecated. Please use tf.compat.v1.get_default_graph instead.\n",
            "\n",
            "WARNING:tensorflow:From /usr/local/lib/python3.6/dist-packages/keras/backend/tensorflow_backend.py:541: The name tf.placeholder is deprecated. Please use tf.compat.v1.placeholder instead.\n",
            "\n",
            "WARNING:tensorflow:From /usr/local/lib/python3.6/dist-packages/keras/backend/tensorflow_backend.py:4432: The name tf.random_uniform is deprecated. Please use tf.random.uniform instead.\n",
            "\n",
            "WARNING:tensorflow:From /usr/local/lib/python3.6/dist-packages/keras/backend/tensorflow_backend.py:148: The name tf.placeholder_with_default is deprecated. Please use tf.compat.v1.placeholder_with_default instead.\n",
            "\n",
            "WARNING:tensorflow:From /usr/local/lib/python3.6/dist-packages/keras/backend/tensorflow_backend.py:3733: calling dropout (from tensorflow.python.ops.nn_ops) with keep_prob is deprecated and will be removed in a future version.\n",
            "Instructions for updating:\n",
            "Please use `rate` instead of `keep_prob`. Rate should be set to `rate = 1 - keep_prob`.\n",
            "WARNING:tensorflow:From /usr/local/lib/python3.6/dist-packages/keras/optimizers.py:793: The name tf.train.Optimizer is deprecated. Please use tf.compat.v1.train.Optimizer instead.\n",
            "\n",
            "WARNING:tensorflow:From /usr/local/lib/python3.6/dist-packages/keras/backend/tensorflow_backend.py:3657: The name tf.log is deprecated. Please use tf.math.log instead.\n",
            "\n",
            "WARNING:tensorflow:From /usr/local/lib/python3.6/dist-packages/tensorflow_core/python/ops/nn_impl.py:183: where (from tensorflow.python.ops.array_ops) is deprecated and will be removed in a future version.\n",
            "Instructions for updating:\n",
            "Use tf.where in 2.0, which has the same broadcast rule as np.where\n"
          ],
          "name": "stdout"
        },
        {
          "output_type": "display_data",
          "data": {
            "image/png": "[encoded data removed]",
            "text/plain": [
              "<Figure size 432x288 with 2 Axes>"
            ]
          },
          "metadata": {
            "tags": []
          }
        }
      ]
    },
    {
      "cell_type": "code",
      "metadata": {
        "id": "kDnWC4ryte6-",
        "colab_type": "code",
        "colab": {
          "base_uri": "https://localhost:8080/",
          "height": 241
        },
        "outputId": "454b0969-c069-441c-8bbf-6978d8b66590"
      },
      "source": [
        "agent.model.load_weights('winer_weights.keras')"
      ],
      "execution_count": 15,
      "outputs": [
        {
          "output_type": "stream",
          "text": [
            "WARNING:tensorflow:From /usr/local/lib/python3.6/dist-packages/keras/backend/tensorflow_backend.py:190: The name tf.get_default_session is deprecated. Please use tf.compat.v1.get_default_session instead.\n",
            "\n",
            "WARNING:tensorflow:From /usr/local/lib/python3.6/dist-packages/keras/backend/tensorflow_backend.py:197: The name tf.ConfigProto is deprecated. Please use tf.compat.v1.ConfigProto instead.\n",
            "\n",
            "WARNING:tensorflow:From /usr/local/lib/python3.6/dist-packages/keras/backend/tensorflow_backend.py:203: The name tf.Session is deprecated. Please use tf.compat.v1.Session instead.\n",
            "\n",
            "WARNING:tensorflow:From /usr/local/lib/python3.6/dist-packages/keras/backend/tensorflow_backend.py:207: The name tf.global_variables is deprecated. Please use tf.compat.v1.global_variables instead.\n",
            "\n",
            "WARNING:tensorflow:From /usr/local/lib/python3.6/dist-packages/keras/backend/tensorflow_backend.py:216: The name tf.is_variable_initialized is deprecated. Please use tf.compat.v1.is_variable_initialized instead.\n",
            "\n",
            "WARNING:tensorflow:From /usr/local/lib/python3.6/dist-packages/keras/backend/tensorflow_backend.py:223: The name tf.variables_initializer is deprecated. Please use tf.compat.v1.variables_initializer instead.\n",
            "\n"
          ],
          "name": "stdout"
        }
      ]
    },
    {
      "cell_type": "code",
      "metadata": {
        "id": "eE7Un1NM25KK",
        "colab_type": "code",
        "outputId": "d7593554-e7c1-4aef-996c-28b53b2dfbbc",
        "colab": {
          "base_uri": "https://localhost:8080/",
          "height": 357
        }
      },
      "source": [
        "agent.model.summary()"
      ],
      "execution_count": 16,
      "outputs": [
        {
          "output_type": "stream",
          "text": [
            "Model: \"sequential_1\"\n",
            "_________________________________________________________________\n",
            "Layer (type)                 Output Shape              Param #   \n",
            "=================================================================\n",
            "conv2d_1 (Conv2D)            (None, 3, 3, 8)           24        \n",
            "_________________________________________________________________\n",
            "conv2d_2 (Conv2D)            (None, 3, 3, 8)           584       \n",
            "_________________________________________________________________\n",
            "flatten_1 (Flatten)          (None, 72)                0         \n",
            "_________________________________________________________________\n",
            "dense_1 (Dense)              (None, 50)                3650      \n",
            "_________________________________________________________________\n",
            "dropout_1 (Dropout)          (None, 50)                0         \n",
            "_________________________________________________________________\n",
            "dense_2 (Dense)              (None, 9)                 459       \n",
            "=================================================================\n",
            "Total params: 4,717\n",
            "Trainable params: 4,717\n",
            "Non-trainable params: 0\n",
            "_________________________________________________________________\n"
          ],
          "name": "stdout"
        }
      ]
    },
    {
      "cell_type": "code",
      "metadata": {
        "id": "UnU5iMlkcgty",
        "colab_type": "code",
        "outputId": "9095fd88-e96d-4217-b6c7-e37bd701f592",
        "colab": {
          "base_uri": "https://localhost:8080/",
          "height": 269
        }
      },
      "source": [
        "move, pred = agent.decide_move(game.state)"
      ],
      "execution_count": 17,
      "outputs": [
        {
          "output_type": "display_data",
          "data": {
            "image/png": "[encoded data removed]",
            "text/plain": [
              "<Figure size 432x288 with 2 Axes>"
            ]
          },
          "metadata": {
            "tags": []
          }
        }
      ]
    },
    {
      "cell_type": "code",
      "metadata": {
        "id": "wc18BX5C_sAd",
        "colab_type": "code",
        "colab": {}
      },
      "source": [
        "from copy import deepcopy\n",
        "\n",
        "def apply_rewards(reward, predictions, decay = 0.5):\n",
        "  # copy and reverse (more reward applied to latest moves)\n",
        "  output = deepcopy(predictions)[::-1]\n",
        "  applied_reward = reward\n",
        "  for pred, move in output:\n",
        "    move_index =  np.unravel_index(move, pred.shape)\n",
        "    pred[ move_index ] = np.clip(pred[ move_index ] + applied_reward, 0, 1)\n",
        "    applied_reward *= decay\n",
        "  # un-reverse \n",
        "  return [o[0] for o in output[::-1]]"
      ],
      "execution_count": 0,
      "outputs": []
    },
    {
      "cell_type": "code",
      "metadata": {
        "id": "L5SuTyfwDbbA",
        "colab_type": "code",
        "colab": {}
      },
      "source": [
        "def get_states(memory):\n",
        "  return [m[0] for m in memory]\n",
        "\n",
        "def get_new_qs(memory):\n",
        "  return [m[1] for m in memory]\n",
        "\n",
        "def render_memory(memory):\n",
        "  states = get_states(memory)\n",
        "  updated = get_new_qs(memory)\n",
        "  current = [m[2][0] for m in memory]\n",
        "  print('states')\n",
        "  render_all(states)\n",
        "  print('current qs')\n",
        "  render_all(current)\n",
        "  print('upated qs')\n",
        "  render_all(updated)\n"
      ],
      "execution_count": 0,
      "outputs": []
    },
    {
      "cell_type": "code",
      "metadata": {
        "id": "6S8fhzd2Ei1O",
        "colab_type": "code",
        "colab": {}
      },
      "source": [
        "def agent_perf(agent, n= 100):\n",
        "  game_scores = []\n",
        "  for i in range(n):\n",
        "    # play game\n",
        "    game = XandOs()\n",
        "    while not game.end:\n",
        "      move, pred = agent.decide_move(game.state, False)\n",
        "      predictions.append(pred)\n",
        "      _reward, _state, _end = game.step(move)\n",
        "    game_scores.append(_reward)\n",
        "  return np.mean(game_scores)"
      ],
      "execution_count": 0,
      "outputs": []
    },
    {
      "cell_type": "code",
      "metadata": {
        "id": "g6sxi8Qkz1AI",
        "colab_type": "code",
        "colab": {}
      },
      "source": [
        "memory = []\n",
        "EPSILON = 0.5\n",
        "\n",
        "for i in range(2500):\n",
        "\n",
        "  # print('NEW GAME')\n",
        "  game = XandOs()\n",
        "  predictions = []\n",
        "  while not game.end:\n",
        "    move, pred = agent.decide_move(game.state, False)\n",
        "    if np.random.random() < EPSILON :\n",
        "      move = game.rand_agent_move(player = 1)\n",
        "    predictions.append([pred, move])\n",
        "    _reward, _state, _end = game.step(move)\n",
        "  # print(_reward)\n",
        "\n",
        "  if _reward == -2:\n",
        "    # invalid move reward\n",
        "    # strongly punish last move\n",
        "    updated_q = apply_rewards(_reward, predictions, decay=0)\n",
        "  else:\n",
        "    # valid move reward\n",
        "    # normally reward previous moves\n",
        "    updated_q = apply_rewards(_reward, predictions, decay=0.5)\n",
        "\n",
        "  states = [h[0] for h in game.history]\n",
        "  for j in range(len(updated_q)):\n",
        "    memory.append( [states[j], updated_q[j], predictions[j]])\n"
      ],
      "execution_count": 0,
      "outputs": []
    },
    {
      "cell_type": "code",
      "metadata": {
        "id": "kk-WI3b-ELhU",
        "colab_type": "code",
        "colab": {
          "base_uri": "https://localhost:8080/",
          "height": 770
        },
        "outputId": "f98f8e5b-3521-4293-937a-5c273b5003a3"
      },
      "source": [
        "render_memory(memory[-10:])"
      ],
      "execution_count": 541,
      "outputs": [
        {
          "output_type": "stream",
          "text": [
            "states\n",
            "make move:  0\n",
            "make move:  5\n",
            "make move:  5\n",
            "make move:  0\n",
            "make move:  5\n",
            "make move:  3\n",
            "make move:  0\n",
            "make move:  4\n",
            "make move:  4\n",
            "make move:  4\n"
          ],
          "name": "stdout"
        },
        {
          "output_type": "display_data",
          "data": {
            "image/png": "[encoded data removed]",
            "text/plain": [
              "<Figure size 432x288 with 1 Axes>"
            ]
          },
          "metadata": {
            "tags": []
          }
        },
        {
          "output_type": "stream",
          "text": [
            "current qs\n",
            "make move:  6\n",
            "make move:  8\n",
            "make move:  3\n",
            "make move:  6\n",
            "make move:  8\n",
            "make move:  8\n",
            "make move:  6\n",
            "make move:  8\n",
            "make move:  0\n",
            "make move:  0\n"
          ],
          "name": "stdout"
        },
        {
          "output_type": "display_data",
          "data": {
            "image/png": "[encoded data removed]",
            "text/plain": [
              "<Figure size 432x288 with 1 Axes>"
            ]
          },
          "metadata": {
            "tags": []
          }
        },
        {
          "output_type": "stream",
          "text": [
            "upated qs\n",
            "make move:  6\n",
            "make move:  8\n",
            "make move:  3\n",
            "make move:  6\n",
            "make move:  8\n",
            "make move:  2\n",
            "make move:  6\n",
            "make move:  8\n",
            "make move:  0\n",
            "make move:  0\n"
          ],
          "name": "stdout"
        },
        {
          "output_type": "display_data",
          "data": {
            "image/png": "[encoded data removed]",
            "text/plain": [
              "<Figure size 432x288 with 1 Axes>"
            ]
          },
          "metadata": {
            "tags": []
          }
        }
      ]
    },
    {
      "cell_type": "code",
      "metadata": {
        "id": "2Fz7vrBOcVx7",
        "colab_type": "code",
        "colab": {}
      },
      "source": [
        ""
      ],
      "execution_count": 0,
      "outputs": []
    },
    {
      "cell_type": "code",
      "metadata": {
        "id": "cFYEAUPBGREe",
        "colab_type": "code",
        "colab": {}
      },
      "source": [
        "_X = np.array(get_states(memory))\n",
        "X = np.zeros([*_X.shape,2])\n",
        "X[:,:,:,0] = (_X == 1)\n",
        "X[:,:,:,1] = (_X == 2)\n",
        "y = np.squeeze(np.array(get_new_qs(memory)))"
      ],
      "execution_count": 0,
      "outputs": []
    },
    {
      "cell_type": "code",
      "metadata": {
        "id": "TggbFTPFGtKp",
        "colab_type": "code",
        "colab": {
          "base_uri": "https://localhost:8080/",
          "height": 34
        },
        "outputId": "679d5f6c-3c5e-472b-f2db-a7f862d97473"
      },
      "source": [
        "X.shape, y.shape"
      ],
      "execution_count": 543,
      "outputs": [
        {
          "output_type": "execute_result",
          "data": {
            "text/plain": [
              "((8618, 3, 3, 2), (8618, 9))"
            ]
          },
          "metadata": {
            "tags": []
          },
          "execution_count": 543
        }
      ]
    },
    {
      "cell_type": "code",
      "metadata": {
        "id": "Jy8o3j_GKi0p",
        "colab_type": "code",
        "colab": {
          "base_uri": "https://localhost:8080/",
          "height": 34
        },
        "outputId": "ebeeb6c7-f9ce-4c0c-da11-86593b9dfb32"
      },
      "source": [
        "agent_perf(agent,n=1000)"
      ],
      "execution_count": 544,
      "outputs": [
        {
          "output_type": "execute_result",
          "data": {
            "text/plain": [
              "0.8905"
            ]
          },
          "metadata": {
            "tags": []
          },
          "execution_count": 544
        }
      ]
    },
    {
      "cell_type": "code",
      "metadata": {
        "id": "O4dfe2vsG3J2",
        "colab_type": "code",
        "colab": {
          "base_uri": "https://localhost:8080/",
          "height": 1000
        },
        "outputId": "dbe74510-06a5-49ac-db13-4768531572bd"
      },
      "source": [
        "agent.model.fit(X, y, epochs=50, verbose=1)"
      ],
      "execution_count": 545,
      "outputs": [
        {
          "output_type": "stream",
          "text": [
            "Epoch 1/50\n",
            "8618/8618 [==============================] - 1s 159us/step - loss: 0.4514\n",
            "Epoch 2/50\n",
            "8618/8618 [==============================] - 1s 151us/step - loss: 0.4417\n",
            "Epoch 3/50\n",
            "8618/8618 [==============================] - 1s 154us/step - loss: 0.4386\n",
            "Epoch 4/50\n",
            "8618/8618 [==============================] - 1s 140us/step - loss: 0.4366\n",
            "Epoch 5/50\n",
            "8618/8618 [==============================] - 1s 137us/step - loss: 0.4358\n",
            "Epoch 6/50\n",
            "8618/8618 [==============================] - 1s 134us/step - loss: 0.4354\n",
            "Epoch 7/50\n",
            "8618/8618 [==============================] - 1s 130us/step - loss: 0.4344\n",
            "Epoch 8/50\n",
            "8618/8618 [==============================] - 1s 137us/step - loss: 0.4341\n",
            "Epoch 9/50\n",
            "8618/8618 [==============================] - 1s 151us/step - loss: 0.4340\n",
            "Epoch 10/50\n",
            "8618/8618 [==============================] - 1s 146us/step - loss: 0.4340\n",
            "Epoch 11/50\n",
            "8618/8618 [==============================] - 1s 152us/step - loss: 0.4342\n",
            "Epoch 12/50\n",
            "8618/8618 [==============================] - 1s 141us/step - loss: 0.4336\n",
            "Epoch 13/50\n",
            "8618/8618 [==============================] - 1s 154us/step - loss: 0.4333\n",
            "Epoch 14/50\n",
            "8618/8618 [==============================] - 1s 139us/step - loss: 0.4328\n",
            "Epoch 15/50\n",
            "8618/8618 [==============================] - 1s 144us/step - loss: 0.4327\n",
            "Epoch 16/50\n",
            "8618/8618 [==============================] - 1s 141us/step - loss: 0.4326\n",
            "Epoch 17/50\n",
            "8618/8618 [==============================] - 1s 146us/step - loss: 0.4324\n",
            "Epoch 18/50\n",
            "8618/8618 [==============================] - 1s 147us/step - loss: 0.4328\n",
            "Epoch 19/50\n",
            "8618/8618 [==============================] - 1s 141us/step - loss: 0.4325\n",
            "Epoch 20/50\n",
            "8618/8618 [==============================] - 1s 154us/step - loss: 0.4321\n",
            "Epoch 21/50\n",
            "8618/8618 [==============================] - 1s 141us/step - loss: 0.4312\n",
            "Epoch 22/50\n",
            "8618/8618 [==============================] - 1s 152us/step - loss: 0.4322\n",
            "Epoch 23/50\n",
            "8618/8618 [==============================] - 2s 183us/step - loss: 0.4316\n",
            "Epoch 24/50\n",
            "8618/8618 [==============================] - 1s 131us/step - loss: 0.4320\n",
            "Epoch 25/50\n",
            "8618/8618 [==============================] - 1s 130us/step - loss: 0.4316\n",
            "Epoch 26/50\n",
            "8618/8618 [==============================] - 1s 139us/step - loss: 0.4314\n",
            "Epoch 27/50\n",
            "8618/8618 [==============================] - 1s 149us/step - loss: 0.4314\n",
            "Epoch 28/50\n",
            "8618/8618 [==============================] - 1s 129us/step - loss: 0.4315\n",
            "Epoch 29/50\n",
            "8618/8618 [==============================] - 1s 142us/step - loss: 0.4322\n",
            "Epoch 30/50\n",
            "8618/8618 [==============================] - 1s 132us/step - loss: 0.4317\n",
            "Epoch 31/50\n",
            "8618/8618 [==============================] - 1s 147us/step - loss: 0.4313\n",
            "Epoch 32/50\n",
            "8618/8618 [==============================] - 1s 158us/step - loss: 0.4308\n",
            "Epoch 33/50\n",
            "8618/8618 [==============================] - 1s 135us/step - loss: 0.4310\n",
            "Epoch 34/50\n",
            "8618/8618 [==============================] - 1s 140us/step - loss: 0.4314\n",
            "Epoch 35/50\n",
            "8618/8618 [==============================] - 1s 134us/step - loss: 0.4309\n",
            "Epoch 36/50\n",
            "8618/8618 [==============================] - 1s 139us/step - loss: 0.4310\n",
            "Epoch 37/50\n",
            "8618/8618 [==============================] - 1s 152us/step - loss: 0.4311\n",
            "Epoch 38/50\n",
            "8618/8618 [==============================] - 1s 146us/step - loss: 0.4309\n",
            "Epoch 39/50\n",
            "8618/8618 [==============================] - 1s 156us/step - loss: 0.4309\n",
            "Epoch 40/50\n",
            "8618/8618 [==============================] - 1s 133us/step - loss: 0.4304\n",
            "Epoch 41/50\n",
            "8618/8618 [==============================] - 1s 136us/step - loss: 0.4310\n",
            "Epoch 42/50\n",
            "8618/8618 [==============================] - 1s 157us/step - loss: 0.4306\n",
            "Epoch 43/50\n",
            "8618/8618 [==============================] - 1s 154us/step - loss: 0.4310\n",
            "Epoch 44/50\n",
            "8618/8618 [==============================] - 1s 169us/step - loss: 0.4303\n",
            "Epoch 45/50\n",
            "8618/8618 [==============================] - 1s 156us/step - loss: 0.4304\n",
            "Epoch 46/50\n",
            "8618/8618 [==============================] - 1s 159us/step - loss: 0.4310\n",
            "Epoch 47/50\n",
            "8618/8618 [==============================] - 1s 146us/step - loss: 0.4306\n",
            "Epoch 48/50\n",
            "8618/8618 [==============================] - 1s 150us/step - loss: 0.4305\n",
            "Epoch 49/50\n",
            "8618/8618 [==============================] - 1s 139us/step - loss: 0.4303\n",
            "Epoch 50/50\n",
            "8618/8618 [==============================] - 1s 140us/step - loss: 0.4301\n"
          ],
          "name": "stdout"
        },
        {
          "output_type": "execute_result",
          "data": {
            "text/plain": [
              "<keras.callbacks.History at 0x7f492dfa79e8>"
            ]
          },
          "metadata": {
            "tags": []
          },
          "execution_count": 545
        }
      ]
    },
    {
      "cell_type": "code",
      "metadata": {
        "id": "OmsckKHSDDO1",
        "colab_type": "code",
        "colab": {
          "base_uri": "https://localhost:8080/",
          "height": 34
        },
        "outputId": "8170eb6d-74ba-4bcf-93e3-59aa9343cd30"
      },
      "source": [
        "agent_perf(agent,n=1000)"
      ],
      "execution_count": 546,
      "outputs": [
        {
          "output_type": "execute_result",
          "data": {
            "text/plain": [
              "0.8945"
            ]
          },
          "metadata": {
            "tags": []
          },
          "execution_count": 546
        }
      ]
    },
    {
      "cell_type": "code",
      "metadata": {
        "id": "jqbFPjLo7pe2",
        "colab_type": "code",
        "colab": {
          "base_uri": "https://localhost:8080/",
          "height": 211
        },
        "cellView": "both",
        "outputId": "58865785-3232-4de8-987b-2df410909664"
      },
      "source": [
        "# render_all( predictions, vmax=1)"
      ],
      "execution_count": 145,
      "outputs": [
        {
          "output_type": "stream",
          "text": [
            "make move:  0\n",
            "make move:  1\n",
            "make move:  1\n"
          ],
          "name": "stdout"
        },
        {
          "output_type": "display_data",
          "data": {
            "image/png": "[encoded data removed]",
            "text/plain": [
              "<Figure size 432x288 with 1 Axes>"
            ]
          },
          "metadata": {
            "tags": []
          }
        }
      ]
    },
    {
      "cell_type": "code",
      "metadata": {
        "id": "GgzvWCzq896y",
        "colab_type": "code",
        "colab": {
          "base_uri": "https://localhost:8080/",
          "height": 211
        },
        "outputId": "95c4efb6-d7ca-49fd-9c29-55a05d675261"
      },
      "source": [
        "altered_hist = apply_rewards(-1, predictions[::-1], decay=0.3)[::-1]\n",
        "render_all( altered_hist, vmax=1)"
      ],
      "execution_count": 151,
      "outputs": [
        {
          "output_type": "stream",
          "text": [
            "make move:  1\n",
            "make move:  0\n",
            "make move:  0\n"
          ],
          "name": "stdout"
        },
        {
          "output_type": "display_data",
          "data": {
            "image/png": "[encoded data removed]",
            "text/plain": [
              "<Figure size 432x288 with 1 Axes>"
            ]
          },
          "metadata": {
            "tags": []
          }
        }
      ]
    },
    {
      "cell_type": "markdown",
      "metadata": {
        "id": "cwubgEAk70o6",
        "colab_type": "text"
      },
      "source": [
        "# Lets play"
      ]
    },
    {
      "cell_type": "code",
      "metadata": {
        "id": "cmN8dSHCtK7A",
        "colab_type": "code",
        "outputId": "cb55302f-ab6c-4866-d4b8-368ea30ab769",
        "colab": {
          "base_uri": "https://localhost:8080/",
          "height": 1000
        }
      },
      "source": [
        "game = XandOs()\n",
        "\n",
        "while not game.end:\n",
        "  move, pred = agent.decide_move(game.state)\n",
        "  reward = game.make_move(move)\n",
        "  game.render()\n",
        "  print(reward)\n",
        "  print(pred)\n",
        "\n",
        "  if not game.end:\n",
        "    player_move = int(input())\n",
        "    player_reward = game.make_move(player_move, player=2)\n",
        "  print(player_move, player_reward)\n",
        "\n"
      ],
      "execution_count": 41,
      "outputs": [
        {
          "output_type": "display_data",
          "data": {
            "image/png": "[encoded data removed]",
            "text/plain": [
              "<Figure size 432x288 with 2 Axes>"
            ]
          },
          "metadata": {
            "tags": []
          }
        },
        {
          "output_type": "display_data",
          "data": {
            "image/png": "[encoded data removed]",
            "text/plain": [
              "<Figure size 432x288 with 2 Axes>"
            ]
          },
          "metadata": {
            "tags": []
          }
        },
        {
          "output_type": "stream",
          "text": [
            "True\n",
            "[[0.33649737 0.43963057 0.38157478 0.36640024 0.4225235  0.34259722\n",
            "  0.97269267 0.38247836 0.4433219 ]]\n",
            "7\n",
            "7 True\n"
          ],
          "name": "stdout"
        },
        {
          "output_type": "display_data",
          "data": {
            "image/png": "[encoded data removed]",
            "text/plain": [
              "<Figure size 432x288 with 2 Axes>"
            ]
          },
          "metadata": {
            "tags": []
          }
        },
        {
          "output_type": "display_data",
          "data": {
            "image/png": "[encoded data removed]",
            "text/plain": [
              "<Figure size 432x288 with 2 Axes>"
            ]
          },
          "metadata": {
            "tags": []
          }
        },
        {
          "output_type": "stream",
          "text": [
            "True\n",
            "[[0.34837472 0.94593716 0.26265314 0.19775349 0.09587032 0.19346842\n",
            "  0.         0.24583822 0.43254322]]\n"
          ],
          "name": "stdout"
        },
        {
          "output_type": "error",
          "ename": "KeyboardInterrupt",
          "evalue": "ignored",
          "traceback": [
            "\u001b[0;31m---------------------------------------------------------------------------\u001b[0m",
            "\u001b[0;31mKeyboardInterrupt\u001b[0m                         Traceback (most recent call last)",
            "\u001b[0;32m/usr/local/lib/python3.6/dist-packages/ipykernel/kernelbase.py\u001b[0m in \u001b[0;36m_input_request\u001b[0;34m(self, prompt, ident, parent, password)\u001b[0m\n\u001b[1;32m    729\u001b[0m             \u001b[0;32mtry\u001b[0m\u001b[0;34m:\u001b[0m\u001b[0;34m\u001b[0m\u001b[0;34m\u001b[0m\u001b[0m\n\u001b[0;32m--> 730\u001b[0;31m                 \u001b[0mident\u001b[0m\u001b[0;34m,\u001b[0m \u001b[0mreply\u001b[0m \u001b[0;34m=\u001b[0m \u001b[0mself\u001b[0m\u001b[0;34m.\u001b[0m\u001b[0msession\u001b[0m\u001b[0;34m.\u001b[0m\u001b[0mrecv\u001b[0m\u001b[0;34m(\u001b[0m\u001b[0mself\u001b[0m\u001b[0;34m.\u001b[0m\u001b[0mstdin_socket\u001b[0m\u001b[0;34m,\u001b[0m \u001b[0;36m0\u001b[0m\u001b[0;34m)\u001b[0m\u001b[0;34m\u001b[0m\u001b[0;34m\u001b[0m\u001b[0m\n\u001b[0m\u001b[1;32m    731\u001b[0m             \u001b[0;32mexcept\u001b[0m \u001b[0mException\u001b[0m\u001b[0;34m:\u001b[0m\u001b[0;34m\u001b[0m\u001b[0;34m\u001b[0m\u001b[0m\n",
            "\u001b[0;32m/usr/local/lib/python3.6/dist-packages/jupyter_client/session.py\u001b[0m in \u001b[0;36mrecv\u001b[0;34m(self, socket, mode, content, copy)\u001b[0m\n\u001b[1;32m    802\u001b[0m         \u001b[0;32mtry\u001b[0m\u001b[0;34m:\u001b[0m\u001b[0;34m\u001b[0m\u001b[0;34m\u001b[0m\u001b[0m\n\u001b[0;32m--> 803\u001b[0;31m             \u001b[0mmsg_list\u001b[0m \u001b[0;34m=\u001b[0m \u001b[0msocket\u001b[0m\u001b[0;34m.\u001b[0m\u001b[0mrecv_multipart\u001b[0m\u001b[0;34m(\u001b[0m\u001b[0mmode\u001b[0m\u001b[0;34m,\u001b[0m \u001b[0mcopy\u001b[0m\u001b[0;34m=\u001b[0m\u001b[0mcopy\u001b[0m\u001b[0;34m)\u001b[0m\u001b[0;34m\u001b[0m\u001b[0;34m\u001b[0m\u001b[0m\n\u001b[0m\u001b[1;32m    804\u001b[0m         \u001b[0;32mexcept\u001b[0m \u001b[0mzmq\u001b[0m\u001b[0;34m.\u001b[0m\u001b[0mZMQError\u001b[0m \u001b[0;32mas\u001b[0m \u001b[0me\u001b[0m\u001b[0;34m:\u001b[0m\u001b[0;34m\u001b[0m\u001b[0;34m\u001b[0m\u001b[0m\n",
            "\u001b[0;32m/usr/local/lib/python3.6/dist-packages/zmq/sugar/socket.py\u001b[0m in \u001b[0;36mrecv_multipart\u001b[0;34m(self, flags, copy, track)\u001b[0m\n\u001b[1;32m    465\u001b[0m         \"\"\"\n\u001b[0;32m--> 466\u001b[0;31m         \u001b[0mparts\u001b[0m \u001b[0;34m=\u001b[0m \u001b[0;34m[\u001b[0m\u001b[0mself\u001b[0m\u001b[0;34m.\u001b[0m\u001b[0mrecv\u001b[0m\u001b[0;34m(\u001b[0m\u001b[0mflags\u001b[0m\u001b[0;34m,\u001b[0m \u001b[0mcopy\u001b[0m\u001b[0;34m=\u001b[0m\u001b[0mcopy\u001b[0m\u001b[0;34m,\u001b[0m \u001b[0mtrack\u001b[0m\u001b[0;34m=\u001b[0m\u001b[0mtrack\u001b[0m\u001b[0;34m)\u001b[0m\u001b[0;34m]\u001b[0m\u001b[0;34m\u001b[0m\u001b[0;34m\u001b[0m\u001b[0m\n\u001b[0m\u001b[1;32m    467\u001b[0m         \u001b[0;31m# have first part already, only loop while more to receive\u001b[0m\u001b[0;34m\u001b[0m\u001b[0;34m\u001b[0m\u001b[0;34m\u001b[0m\u001b[0m\n",
            "\u001b[0;32mzmq/backend/cython/socket.pyx\u001b[0m in \u001b[0;36mzmq.backend.cython.socket.Socket.recv\u001b[0;34m()\u001b[0m\n",
            "\u001b[0;32mzmq/backend/cython/socket.pyx\u001b[0m in \u001b[0;36mzmq.backend.cython.socket.Socket.recv\u001b[0;34m()\u001b[0m\n",
            "\u001b[0;32mzmq/backend/cython/socket.pyx\u001b[0m in \u001b[0;36mzmq.backend.cython.socket._recv_copy\u001b[0;34m()\u001b[0m\n",
            "\u001b[0;32m/usr/local/lib/python3.6/dist-packages/zmq/backend/cython/checkrc.pxd\u001b[0m in \u001b[0;36mzmq.backend.cython.checkrc._check_rc\u001b[0;34m()\u001b[0m\n",
            "\u001b[0;31mKeyboardInterrupt\u001b[0m: ",
            "\nDuring handling of the above exception, another exception occurred:\n",
            "\u001b[0;31mKeyboardInterrupt\u001b[0m                         Traceback (most recent call last)",
            "\u001b[0;32m<ipython-input-41-ab04557096cc>\u001b[0m in \u001b[0;36m<module>\u001b[0;34m()\u001b[0m\n\u001b[1;32m      9\u001b[0m \u001b[0;34m\u001b[0m\u001b[0m\n\u001b[1;32m     10\u001b[0m   \u001b[0;32mif\u001b[0m \u001b[0;32mnot\u001b[0m \u001b[0mgame\u001b[0m\u001b[0;34m.\u001b[0m\u001b[0mend\u001b[0m\u001b[0;34m:\u001b[0m\u001b[0;34m\u001b[0m\u001b[0;34m\u001b[0m\u001b[0m\n\u001b[0;32m---> 11\u001b[0;31m     \u001b[0mplayer_move\u001b[0m \u001b[0;34m=\u001b[0m \u001b[0mint\u001b[0m\u001b[0;34m(\u001b[0m\u001b[0minput\u001b[0m\u001b[0;34m(\u001b[0m\u001b[0;34m)\u001b[0m\u001b[0;34m)\u001b[0m\u001b[0;34m\u001b[0m\u001b[0;34m\u001b[0m\u001b[0m\n\u001b[0m\u001b[1;32m     12\u001b[0m     \u001b[0mplayer_reward\u001b[0m \u001b[0;34m=\u001b[0m \u001b[0mgame\u001b[0m\u001b[0;34m.\u001b[0m\u001b[0mmake_move\u001b[0m\u001b[0;34m(\u001b[0m\u001b[0mplayer_move\u001b[0m\u001b[0;34m,\u001b[0m \u001b[0mplayer\u001b[0m\u001b[0;34m=\u001b[0m\u001b[0;36m2\u001b[0m\u001b[0;34m)\u001b[0m\u001b[0;34m\u001b[0m\u001b[0;34m\u001b[0m\u001b[0m\n\u001b[1;32m     13\u001b[0m   \u001b[0mprint\u001b[0m\u001b[0;34m(\u001b[0m\u001b[0mplayer_move\u001b[0m\u001b[0;34m,\u001b[0m \u001b[0mplayer_reward\u001b[0m\u001b[0;34m)\u001b[0m\u001b[0;34m\u001b[0m\u001b[0;34m\u001b[0m\u001b[0m\n",
            "\u001b[0;32m/usr/local/lib/python3.6/dist-packages/ipykernel/kernelbase.py\u001b[0m in \u001b[0;36mraw_input\u001b[0;34m(self, prompt)\u001b[0m\n\u001b[1;32m    703\u001b[0m             \u001b[0mself\u001b[0m\u001b[0;34m.\u001b[0m\u001b[0m_parent_ident\u001b[0m\u001b[0;34m,\u001b[0m\u001b[0;34m\u001b[0m\u001b[0;34m\u001b[0m\u001b[0m\n\u001b[1;32m    704\u001b[0m             \u001b[0mself\u001b[0m\u001b[0;34m.\u001b[0m\u001b[0m_parent_header\u001b[0m\u001b[0;34m,\u001b[0m\u001b[0;34m\u001b[0m\u001b[0;34m\u001b[0m\u001b[0m\n\u001b[0;32m--> 705\u001b[0;31m             \u001b[0mpassword\u001b[0m\u001b[0;34m=\u001b[0m\u001b[0;32mFalse\u001b[0m\u001b[0;34m,\u001b[0m\u001b[0;34m\u001b[0m\u001b[0;34m\u001b[0m\u001b[0m\n\u001b[0m\u001b[1;32m    706\u001b[0m         )\n\u001b[1;32m    707\u001b[0m \u001b[0;34m\u001b[0m\u001b[0m\n",
            "\u001b[0;32m/usr/local/lib/python3.6/dist-packages/ipykernel/kernelbase.py\u001b[0m in \u001b[0;36m_input_request\u001b[0;34m(self, prompt, ident, parent, password)\u001b[0m\n\u001b[1;32m    733\u001b[0m             \u001b[0;32mexcept\u001b[0m \u001b[0mKeyboardInterrupt\u001b[0m\u001b[0;34m:\u001b[0m\u001b[0;34m\u001b[0m\u001b[0;34m\u001b[0m\u001b[0m\n\u001b[1;32m    734\u001b[0m                 \u001b[0;31m# re-raise KeyboardInterrupt, to truncate traceback\u001b[0m\u001b[0;34m\u001b[0m\u001b[0;34m\u001b[0m\u001b[0;34m\u001b[0m\u001b[0m\n\u001b[0;32m--> 735\u001b[0;31m                 \u001b[0;32mraise\u001b[0m \u001b[0mKeyboardInterrupt\u001b[0m\u001b[0;34m\u001b[0m\u001b[0;34m\u001b[0m\u001b[0m\n\u001b[0m\u001b[1;32m    736\u001b[0m             \u001b[0;32melse\u001b[0m\u001b[0;34m:\u001b[0m\u001b[0;34m\u001b[0m\u001b[0;34m\u001b[0m\u001b[0m\n\u001b[1;32m    737\u001b[0m                 \u001b[0;32mbreak\u001b[0m\u001b[0;34m\u001b[0m\u001b[0;34m\u001b[0m\u001b[0m\n",
            "\u001b[0;31mKeyboardInterrupt\u001b[0m: "
          ]
        }
      ]
    },
    {
      "cell_type": "code",
      "metadata": {
        "id": "QErNE1dT2ow9",
        "colab_type": "code",
        "colab": {}
      },
      "source": [
        ""
      ],
      "execution_count": 0,
      "outputs": []
    },
    {
      "cell_type": "code",
      "metadata": {
        "id": "53h8GJe31Atg",
        "colab_type": "code",
        "colab": {}
      },
      "source": [
        "f = [[[[0, 0],\n",
        "       [0, 0],\n",
        "       [0, 0]],\n",
        "\n",
        "      [[1, 0],\n",
        "       [0, 0],\n",
        "       [0, 0]],\n",
        "\n",
        "      [[0, 1],\n",
        "       [0, 0],\n",
        "       [0, 0]]]]"
      ],
      "execution_count": 0,
      "outputs": []
    },
    {
      "cell_type": "code",
      "metadata": {
        "id": "JmUL2ViN1DTv",
        "colab_type": "code",
        "colab": {
          "base_uri": "https://localhost:8080/",
          "height": 34
        },
        "outputId": "6f1f72a1-da91-41e6-d3d7-f2be848ecf14"
      },
      "source": [
        ""
      ],
      "execution_count": 36,
      "outputs": [
        {
          "output_type": "execute_result",
          "data": {
            "text/plain": [
              "[[0, 0], [0, 0], [0, 0]]"
            ]
          },
          "metadata": {
            "tags": []
          },
          "execution_count": 36
        }
      ]
    },
    {
      "cell_type": "code",
      "metadata": {
        "id": "y79DRxm3w8Tq",
        "colab_type": "code",
        "colab": {
          "base_uri": "https://localhost:8080/",
          "height": 68
        },
        "outputId": "13a4a5c5-4de4-45f4-d10f-2b2b973e24e7"
      },
      "source": [
        "game.state"
      ],
      "execution_count": 30,
      "outputs": [
        {
          "output_type": "execute_result",
          "data": {
            "text/plain": [
              "array([[0, 0, 0],\n",
              "       [2, 0, 0],\n",
              "       [1, 0, 1]], dtype=int16)"
            ]
          },
          "metadata": {
            "tags": []
          },
          "execution_count": 30
        }
      ]
    },
    {
      "cell_type": "code",
      "metadata": {
        "id": "rH7Uum0Gevf4",
        "colab_type": "code",
        "colab": {}
      },
      "source": [
        "agent.model.save('winer.keras')"
      ],
      "execution_count": 0,
      "outputs": []
    },
    {
      "cell_type": "code",
      "metadata": {
        "id": "mpJwa-ZQfG5x",
        "colab_type": "code",
        "colab": {}
      },
      "source": [
        "agent.model.save_weights('winer_weights.keras')"
      ],
      "execution_count": 0,
      "outputs": []
    },
    {
      "cell_type": "code",
      "metadata": {
        "id": "HVyupMyNfNJL",
        "colab_type": "code",
        "colab": {}
      },
      "source": [
        ""
      ],
      "execution_count": 0,
      "outputs": []
    }
  ]
}